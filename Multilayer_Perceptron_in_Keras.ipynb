{
  "nbformat": 4,
  "nbformat_minor": 0,
  "metadata": {
    "colab": {
      "name": "Multilayer Perceptron in Keras.ipynb",
      "provenance": [],
      "authorship_tag": "ABX9TyM2uwkInMI+bHYgePOb4jFN",
      "include_colab_link": true
    },
    "kernelspec": {
      "name": "python3",
      "display_name": "Python 3"
    }
  },
  "cells": [
    {
      "cell_type": "markdown",
      "metadata": {
        "id": "view-in-github",
        "colab_type": "text"
      },
      "source": [
        "<a href=\"https://colab.research.google.com/github/RonakMehta21/Multilayer-Perceptron-in-Keras/blob/master/Multilayer_Perceptron_in_Keras.ipynb\" target=\"_parent\"><img src=\"https://colab.research.google.com/assets/colab-badge.svg\" alt=\"Open In Colab\"/></a>"
      ]
    },
    {
      "cell_type": "markdown",
      "metadata": {
        "id": "LcwXkUODVF2W",
        "colab_type": "text"
      },
      "source": [
        "## Introducing Multilayer Perceptron (MLP) in Keras\n",
        "This Notebook uses `pima-indians-diabetes` dataset"
      ]
    },
    {
      "cell_type": "markdown",
      "metadata": {
        "id": "4bfg7WfidBHB",
        "colab_type": "text"
      },
      "source": [
        "#### Import the necessary libraries"
      ]
    },
    {
      "cell_type": "code",
      "metadata": {
        "id": "8if1uGN4USpt",
        "colab_type": "code",
        "colab": {}
      },
      "source": [
        "from keras.models import Sequential\n",
        "from keras.layers import Dense\n",
        "import numpy as np"
      ],
      "execution_count": 0,
      "outputs": []
    },
    {
      "cell_type": "code",
      "metadata": {
        "id": "8m8xUz6JVw9i",
        "colab_type": "code",
        "colab": {}
      },
      "source": [
        "# Code to read csv file into Colaboratory:\n",
        "!pip install -U -q PyDrive\n",
        "from pydrive.auth import GoogleAuth\n",
        "from pydrive.drive import GoogleDrive\n",
        "from google.colab import auth\n",
        "from oauth2client.client import GoogleCredentials\n",
        "# Authenticate and create the PyDrive client.\n",
        "auth.authenticate_user()\n",
        "gauth = GoogleAuth()\n",
        "gauth.credentials = GoogleCredentials.get_application_default()\n",
        "drive = GoogleDrive(gauth)"
      ],
      "execution_count": 0,
      "outputs": []
    },
    {
      "cell_type": "code",
      "metadata": {
        "id": "lvaFnL1DWMCp",
        "colab_type": "code",
        "colab": {
          "base_uri": "https://localhost:8080/",
          "height": 34
        },
        "outputId": "caa8fc25-d067-4832-f6e3-5d59dc97342b"
      },
      "source": [
        "link = 'https://drive.google.com/open?id=1RMlavFIWAjz9APH-FqimBLipI9H0y8oW'\n",
        "fluff, id = link.split('=')\n",
        "print (id) # Verify that you have everything after '='"
      ],
      "execution_count": 5,
      "outputs": [
        {
          "output_type": "stream",
          "text": [
            "1RMlavFIWAjz9APH-FqimBLipI9H0y8oW\n"
          ],
          "name": "stdout"
        }
      ]
    },
    {
      "cell_type": "code",
      "metadata": {
        "id": "rGIXkiddWwXh",
        "colab_type": "code",
        "colab": {}
      },
      "source": [
        "downloaded = drive.CreateFile({'id':id}) \n",
        "downloaded.GetContentFile('pima-indians-diabetes.csv')"
      ],
      "execution_count": 0,
      "outputs": []
    },
    {
      "cell_type": "markdown",
      "metadata": {
        "id": "-sW-0oh-dHhA",
        "colab_type": "text"
      },
      "source": [
        "#### Load and prepare the dataset"
      ]
    },
    {
      "cell_type": "code",
      "metadata": {
        "id": "umjkbZ--bYUI",
        "colab_type": "code",
        "colab": {}
      },
      "source": [
        "df = np.loadtxt(\"pima-indians-diabetes.csv\",delimiter=\",\")"
      ],
      "execution_count": 0,
      "outputs": []
    },
    {
      "cell_type": "code",
      "metadata": {
        "id": "ZcCLDXurbr9K",
        "colab_type": "code",
        "colab": {}
      },
      "source": [
        "X = df[:,0:8]\n",
        "Y = df[:,8]"
      ],
      "execution_count": 0,
      "outputs": []
    },
    {
      "cell_type": "markdown",
      "metadata": {
        "id": "Fma3Bmm0dPQs",
        "colab_type": "text"
      },
      "source": [
        "#### 1. Define the Network"
      ]
    },
    {
      "cell_type": "code",
      "metadata": {
        "id": "RIeIywYib0A_",
        "colab_type": "code",
        "colab": {}
      },
      "source": [
        "model = Sequential()\n",
        "model.add(Dense(12,input_dim=8,activation='relu'))\n",
        "model.add(Dense(1,activation='sigmoid'))"
      ],
      "execution_count": 0,
      "outputs": []
    },
    {
      "cell_type": "markdown",
      "metadata": {
        "id": "k7O39gmKdTrJ",
        "colab_type": "text"
      },
      "source": [
        "#### 2. Compile the Network"
      ]
    },
    {
      "cell_type": "code",
      "metadata": {
        "id": "-NX0aLxacu6W",
        "colab_type": "code",
        "colab": {}
      },
      "source": [
        "model.compile(loss='binary_crossentropy',optimizer='adam',metrics=['accuracy'])"
      ],
      "execution_count": 0,
      "outputs": []
    },
    {
      "cell_type": "markdown",
      "metadata": {
        "id": "6Ivc-BGFd121",
        "colab_type": "text"
      },
      "source": [
        "#### 3. Fit the Network"
      ]
    },
    {
      "cell_type": "code",
      "metadata": {
        "id": "I43pGhkOczKM",
        "colab_type": "code",
        "colab": {
          "base_uri": "https://localhost:8080/",
          "height": 1000
        },
        "outputId": "5a00c1bb-3a5d-49ff-fa6e-03f90f3935b2"
      },
      "source": [
        "history = model.fit(X,Y,batch_size=10,epochs=100)"
      ],
      "execution_count": 48,
      "outputs": [
        {
          "output_type": "stream",
          "text": [
            "Epoch 1/100\n",
            "768/768 [==============================] - 0s 415us/step - loss: 6.1527 - acc: 0.4609\n",
            "Epoch 2/100\n",
            "768/768 [==============================] - 0s 117us/step - loss: 2.7389 - acc: 0.5898\n",
            "Epoch 3/100\n",
            "768/768 [==============================] - 0s 117us/step - loss: 2.4012 - acc: 0.5938\n",
            "Epoch 4/100\n",
            "768/768 [==============================] - 0s 113us/step - loss: 2.1228 - acc: 0.6042\n",
            "Epoch 5/100\n",
            "768/768 [==============================] - 0s 117us/step - loss: 1.7954 - acc: 0.6133\n",
            "Epoch 6/100\n",
            "768/768 [==============================] - 0s 124us/step - loss: 1.6307 - acc: 0.6393\n",
            "Epoch 7/100\n",
            "768/768 [==============================] - 0s 120us/step - loss: 1.5684 - acc: 0.6276\n",
            "Epoch 8/100\n",
            "768/768 [==============================] - 0s 125us/step - loss: 1.4016 - acc: 0.6328\n",
            "Epoch 9/100\n",
            "768/768 [==============================] - 0s 118us/step - loss: 1.2918 - acc: 0.6576\n",
            "Epoch 10/100\n",
            "768/768 [==============================] - 0s 112us/step - loss: 1.1522 - acc: 0.6589\n",
            "Epoch 11/100\n",
            "768/768 [==============================] - 0s 120us/step - loss: 0.9693 - acc: 0.6667\n",
            "Epoch 12/100\n",
            "768/768 [==============================] - 0s 117us/step - loss: 0.9339 - acc: 0.6445\n",
            "Epoch 13/100\n",
            "768/768 [==============================] - 0s 119us/step - loss: 0.8510 - acc: 0.6719\n",
            "Epoch 14/100\n",
            "768/768 [==============================] - 0s 116us/step - loss: 0.8528 - acc: 0.6589\n",
            "Epoch 15/100\n",
            "768/768 [==============================] - 0s 123us/step - loss: 0.8120 - acc: 0.6523\n",
            "Epoch 16/100\n",
            "768/768 [==============================] - 0s 116us/step - loss: 0.8154 - acc: 0.6406\n",
            "Epoch 17/100\n",
            "768/768 [==============================] - 0s 129us/step - loss: 0.7490 - acc: 0.6484\n",
            "Epoch 18/100\n",
            "768/768 [==============================] - 0s 124us/step - loss: 0.7610 - acc: 0.6445\n",
            "Epoch 19/100\n",
            "768/768 [==============================] - 0s 131us/step - loss: 0.7162 - acc: 0.6589\n",
            "Epoch 20/100\n",
            "768/768 [==============================] - 0s 120us/step - loss: 0.7291 - acc: 0.6471\n",
            "Epoch 21/100\n",
            "768/768 [==============================] - 0s 118us/step - loss: 0.7404 - acc: 0.6602\n",
            "Epoch 22/100\n",
            "768/768 [==============================] - 0s 113us/step - loss: 0.6970 - acc: 0.6576\n",
            "Epoch 23/100\n",
            "768/768 [==============================] - 0s 128us/step - loss: 0.6869 - acc: 0.6602\n",
            "Epoch 24/100\n",
            "768/768 [==============================] - 0s 116us/step - loss: 0.6771 - acc: 0.6706\n",
            "Epoch 25/100\n",
            "768/768 [==============================] - 0s 118us/step - loss: 0.6554 - acc: 0.6901\n",
            "Epoch 26/100\n",
            "768/768 [==============================] - 0s 130us/step - loss: 0.6569 - acc: 0.6784\n",
            "Epoch 27/100\n",
            "768/768 [==============================] - 0s 125us/step - loss: 0.6705 - acc: 0.6628\n",
            "Epoch 28/100\n",
            "768/768 [==============================] - 0s 125us/step - loss: 0.6571 - acc: 0.6680\n",
            "Epoch 29/100\n",
            "768/768 [==============================] - 0s 124us/step - loss: 0.6372 - acc: 0.6849\n",
            "Epoch 30/100\n",
            "768/768 [==============================] - 0s 144us/step - loss: 0.6601 - acc: 0.6901\n",
            "Epoch 31/100\n",
            "768/768 [==============================] - 0s 126us/step - loss: 0.6495 - acc: 0.6901\n",
            "Epoch 32/100\n",
            "768/768 [==============================] - 0s 122us/step - loss: 0.6499 - acc: 0.6797\n",
            "Epoch 33/100\n",
            "768/768 [==============================] - 0s 122us/step - loss: 0.6253 - acc: 0.6979\n",
            "Epoch 34/100\n",
            "768/768 [==============================] - 0s 146us/step - loss: 0.6246 - acc: 0.6914\n",
            "Epoch 35/100\n",
            "768/768 [==============================] - 0s 121us/step - loss: 0.6201 - acc: 0.7161\n",
            "Epoch 36/100\n",
            "768/768 [==============================] - 0s 120us/step - loss: 0.6283 - acc: 0.6992\n",
            "Epoch 37/100\n",
            "768/768 [==============================] - 0s 115us/step - loss: 0.6276 - acc: 0.7031\n",
            "Epoch 38/100\n",
            "768/768 [==============================] - 0s 119us/step - loss: 0.6313 - acc: 0.6979\n",
            "Epoch 39/100\n",
            "768/768 [==============================] - 0s 127us/step - loss: 0.6261 - acc: 0.6966\n",
            "Epoch 40/100\n",
            "768/768 [==============================] - 0s 146us/step - loss: 0.6359 - acc: 0.7057\n",
            "Epoch 41/100\n",
            "768/768 [==============================] - 0s 118us/step - loss: 0.6295 - acc: 0.7174\n",
            "Epoch 42/100\n",
            "768/768 [==============================] - 0s 126us/step - loss: 0.6233 - acc: 0.6888\n",
            "Epoch 43/100\n",
            "768/768 [==============================] - 0s 127us/step - loss: 0.6135 - acc: 0.6966\n",
            "Epoch 44/100\n",
            "768/768 [==============================] - 0s 126us/step - loss: 0.6158 - acc: 0.6875\n",
            "Epoch 45/100\n",
            "768/768 [==============================] - 0s 129us/step - loss: 0.6160 - acc: 0.6849\n",
            "Epoch 46/100\n",
            "768/768 [==============================] - 0s 128us/step - loss: 0.6118 - acc: 0.7018\n",
            "Epoch 47/100\n",
            "768/768 [==============================] - 0s 130us/step - loss: 0.5915 - acc: 0.7201\n",
            "Epoch 48/100\n",
            "768/768 [==============================] - 0s 123us/step - loss: 0.6027 - acc: 0.7096\n",
            "Epoch 49/100\n",
            "768/768 [==============================] - 0s 128us/step - loss: 0.6064 - acc: 0.7070\n",
            "Epoch 50/100\n",
            "768/768 [==============================] - 0s 131us/step - loss: 0.6188 - acc: 0.7005\n",
            "Epoch 51/100\n",
            "768/768 [==============================] - 0s 133us/step - loss: 0.6110 - acc: 0.7083\n",
            "Epoch 52/100\n",
            "768/768 [==============================] - 0s 135us/step - loss: 0.6559 - acc: 0.7096\n",
            "Epoch 53/100\n",
            "768/768 [==============================] - 0s 123us/step - loss: 0.6251 - acc: 0.6823\n",
            "Epoch 54/100\n",
            "768/768 [==============================] - 0s 126us/step - loss: 0.6190 - acc: 0.6771\n",
            "Epoch 55/100\n",
            "768/768 [==============================] - 0s 122us/step - loss: 0.5821 - acc: 0.7292\n",
            "Epoch 56/100\n",
            "768/768 [==============================] - 0s 126us/step - loss: 0.5812 - acc: 0.7135\n",
            "Epoch 57/100\n",
            "768/768 [==============================] - 0s 129us/step - loss: 0.5766 - acc: 0.7240\n",
            "Epoch 58/100\n",
            "768/768 [==============================] - 0s 125us/step - loss: 0.6078 - acc: 0.7122\n",
            "Epoch 59/100\n",
            "768/768 [==============================] - 0s 137us/step - loss: 0.5770 - acc: 0.7122\n",
            "Epoch 60/100\n",
            "768/768 [==============================] - 0s 128us/step - loss: 0.5911 - acc: 0.7148\n",
            "Epoch 61/100\n",
            "768/768 [==============================] - 0s 141us/step - loss: 0.5895 - acc: 0.7188\n",
            "Epoch 62/100\n",
            "768/768 [==============================] - 0s 120us/step - loss: 0.5746 - acc: 0.7070\n",
            "Epoch 63/100\n",
            "768/768 [==============================] - 0s 130us/step - loss: 0.5849 - acc: 0.7096\n",
            "Epoch 64/100\n",
            "768/768 [==============================] - 0s 130us/step - loss: 0.6280 - acc: 0.7005\n",
            "Epoch 65/100\n",
            "768/768 [==============================] - 0s 130us/step - loss: 0.5804 - acc: 0.7109\n",
            "Epoch 66/100\n",
            "768/768 [==============================] - 0s 138us/step - loss: 0.5910 - acc: 0.7188\n",
            "Epoch 67/100\n",
            "768/768 [==============================] - 0s 130us/step - loss: 0.5979 - acc: 0.7253\n",
            "Epoch 68/100\n",
            "768/768 [==============================] - 0s 128us/step - loss: 0.5826 - acc: 0.7031\n",
            "Epoch 69/100\n",
            "768/768 [==============================] - 0s 130us/step - loss: 0.5819 - acc: 0.7109\n",
            "Epoch 70/100\n",
            "768/768 [==============================] - 0s 125us/step - loss: 0.6052 - acc: 0.6992\n",
            "Epoch 71/100\n",
            "768/768 [==============================] - 0s 128us/step - loss: 0.6027 - acc: 0.7031\n",
            "Epoch 72/100\n",
            "768/768 [==============================] - 0s 128us/step - loss: 0.5670 - acc: 0.7161\n",
            "Epoch 73/100\n",
            "768/768 [==============================] - 0s 136us/step - loss: 0.6108 - acc: 0.6966\n",
            "Epoch 74/100\n",
            "768/768 [==============================] - 0s 126us/step - loss: 0.5572 - acc: 0.7305\n",
            "Epoch 75/100\n",
            "768/768 [==============================] - 0s 123us/step - loss: 0.5646 - acc: 0.7188\n",
            "Epoch 76/100\n",
            "768/768 [==============================] - 0s 125us/step - loss: 0.5638 - acc: 0.7240\n",
            "Epoch 77/100\n",
            "768/768 [==============================] - 0s 127us/step - loss: 0.5832 - acc: 0.7070\n",
            "Epoch 78/100\n",
            "768/768 [==============================] - 0s 133us/step - loss: 0.5555 - acc: 0.7253\n",
            "Epoch 79/100\n",
            "768/768 [==============================] - 0s 127us/step - loss: 0.5701 - acc: 0.7292\n",
            "Epoch 80/100\n",
            "768/768 [==============================] - 0s 129us/step - loss: 0.5532 - acc: 0.7266\n",
            "Epoch 81/100\n",
            "768/768 [==============================] - 0s 124us/step - loss: 0.5842 - acc: 0.6966\n",
            "Epoch 82/100\n",
            "768/768 [==============================] - 0s 121us/step - loss: 0.5709 - acc: 0.7357\n",
            "Epoch 83/100\n",
            "768/768 [==============================] - 0s 128us/step - loss: 0.5546 - acc: 0.7383\n",
            "Epoch 84/100\n",
            "768/768 [==============================] - 0s 129us/step - loss: 0.5547 - acc: 0.7266\n",
            "Epoch 85/100\n",
            "768/768 [==============================] - 0s 132us/step - loss: 0.5407 - acc: 0.7344\n",
            "Epoch 86/100\n",
            "768/768 [==============================] - 0s 123us/step - loss: 0.5549 - acc: 0.7201\n",
            "Epoch 87/100\n",
            "768/768 [==============================] - 0s 128us/step - loss: 0.5445 - acc: 0.7396\n",
            "Epoch 88/100\n",
            "768/768 [==============================] - 0s 128us/step - loss: 0.5836 - acc: 0.7096\n",
            "Epoch 89/100\n",
            "768/768 [==============================] - 0s 134us/step - loss: 0.5667 - acc: 0.7161\n",
            "Epoch 90/100\n",
            "768/768 [==============================] - 0s 121us/step - loss: 0.5825 - acc: 0.7214\n",
            "Epoch 91/100\n",
            "768/768 [==============================] - 0s 129us/step - loss: 0.5765 - acc: 0.7148\n",
            "Epoch 92/100\n",
            "768/768 [==============================] - 0s 125us/step - loss: 0.5500 - acc: 0.7396\n",
            "Epoch 93/100\n",
            "768/768 [==============================] - 0s 124us/step - loss: 0.5467 - acc: 0.7396\n",
            "Epoch 94/100\n",
            "768/768 [==============================] - 0s 131us/step - loss: 0.5460 - acc: 0.7266\n",
            "Epoch 95/100\n",
            "768/768 [==============================] - 0s 147us/step - loss: 0.5878 - acc: 0.7018\n",
            "Epoch 96/100\n",
            "768/768 [==============================] - 0s 122us/step - loss: 0.5852 - acc: 0.7057\n",
            "Epoch 97/100\n",
            "768/768 [==============================] - 0s 122us/step - loss: 0.5404 - acc: 0.7383\n",
            "Epoch 98/100\n",
            "768/768 [==============================] - 0s 140us/step - loss: 0.5584 - acc: 0.7240\n",
            "Epoch 99/100\n",
            "768/768 [==============================] - 0s 130us/step - loss: 0.5305 - acc: 0.7383\n",
            "Epoch 100/100\n",
            "768/768 [==============================] - 0s 123us/step - loss: 0.5433 - acc: 0.7227\n"
          ],
          "name": "stdout"
        }
      ]
    },
    {
      "cell_type": "markdown",
      "metadata": {
        "id": "1NyOyjcNeJzY",
        "colab_type": "text"
      },
      "source": [
        "#### 4. Evaluate the Network"
      ]
    },
    {
      "cell_type": "code",
      "metadata": {
        "id": "TC2EQgWieENl",
        "colab_type": "code",
        "colab": {
          "base_uri": "https://localhost:8080/",
          "height": 68
        },
        "outputId": "0033eeef-c551-421c-971b-a7d169b7533a"
      },
      "source": [
        "loss,accuracy = model.evaluate(X,Y)\n",
        "print(\"\\nLoss\",loss,\",Accuracy\",accuracy*100)"
      ],
      "execution_count": 49,
      "outputs": [
        {
          "output_type": "stream",
          "text": [
            "768/768 [==============================] - 0s 108us/step\n",
            "\n",
            "Loss 0.5445345665017763 ,Accuracy 73.17708333333334\n"
          ],
          "name": "stdout"
        }
      ]
    },
    {
      "cell_type": "markdown",
      "metadata": {
        "id": "PIkIOXDnetb5",
        "colab_type": "text"
      },
      "source": [
        "#### 5. Make Predictions"
      ]
    },
    {
      "cell_type": "code",
      "metadata": {
        "id": "yD1w52tPeTAk",
        "colab_type": "code",
        "colab": {
          "base_uri": "https://localhost:8080/",
          "height": 34
        },
        "outputId": "fff0335e-e8fb-4ab4-a067-8c969e519b1c"
      },
      "source": [
        "probabilities = model.predict(X)\n",
        "predictions = [float(str(x[0])) for x in probabilities]\n",
        "accuracy = np.mean(predictions)\n",
        "print(\"Prediction Accuracy:\",accuracy*100)"
      ],
      "execution_count": 55,
      "outputs": [
        {
          "output_type": "stream",
          "text": [
            "Prediction Accuracy: 38.89909200829778\n"
          ],
          "name": "stdout"
        }
      ]
    }
  ]
}